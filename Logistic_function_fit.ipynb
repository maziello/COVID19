{
 "cells": [
  {
   "cell_type": "code",
   "execution_count": null,
   "metadata": {},
   "outputs": [],
   "source": [
    "import pandas as pd\n",
    "import datetime\n",
    "import matplotlib.pyplot as plt\n",
    "import numpy as np\n",
    "from scipy.constants import golden\n",
    "import ipywidgets as widgets\n",
    "from scipy.optimize import curve_fit\n",
    "from sklearn.metrics import r2_score\n",
    "import pytz\n",
    "import os"
   ]
  },
  {
   "cell_type": "code",
   "execution_count": null,
   "metadata": {},
   "outputs": [],
   "source": [
    "today = datetime.datetime.today()\n",
    "# Select your local timezone to get the right date when running the notebook\n",
    "localtimezone = pytz.timezone(\"US/Pacific\")\n",
    "today = today.astimezone(localtimezone)\n",
    "print(f\"{today.year}-{today.month:02d}-{today.day:02d}\")"
   ]
  },
  {
   "cell_type": "code",
   "execution_count": null,
   "metadata": {},
   "outputs": [],
   "source": [
    "filename = f\"https://www.ecdc.europa.eu/sites/default/files/documents/COVID-19-geographic-disbtribution-worldwide-{today.year}-{today.month:02d}-{today.day:02d}.xlsx\""
   ]
  },
  {
   "cell_type": "code",
   "execution_count": null,
   "metadata": {},
   "outputs": [],
   "source": [
    "df = pd.read_excel(filename)"
   ]
  },
  {
   "cell_type": "code",
   "execution_count": null,
   "metadata": {},
   "outputs": [],
   "source": [
    "df.head()"
   ]
  },
  {
   "cell_type": "code",
   "execution_count": null,
   "metadata": {},
   "outputs": [],
   "source": [
    "def logistic_curve(x, a, b, c, d):\n",
    "    \"\"\"\n",
    "    Logistic function with parameters a, b, c, d\n",
    "    a is the curve's maximum value (top asymptote)\n",
    "    b is the curve's minimum value (bottom asymptote)\n",
    "    c is the logistic growth rate or steepness of the curve\n",
    "    d is the x value of the sigmoid's midpoint\n",
    "    \"\"\"\n",
    "    return ((a-b) / (1 + np.exp(-c * (x - d)))) + b"
   ]
  },
  {
   "cell_type": "code",
   "execution_count": null,
   "metadata": {},
   "outputs": [],
   "source": [
    "def logarithmic_curve_fit(selectedcountry, save_figure=False):\n",
    "    # Define image parameters\n",
    "    image_width=8\n",
    "    \n",
    "    # initialize variables\n",
    "    passed_inflection_point = False\n",
    "    markersize = 10\n",
    "    \n",
    "    # Create figure with the right dimensions\n",
    "    fig, axs = plt.subplots(nrows=1, ncols=1, figsize=(image_width*golden, image_width))\n",
    "    \n",
    "    # Filter the dataframe for the selected country\n",
    "    # To avoid asymmetries, get only rows of the selected country with at least one case\n",
    "    # Sort the dataframe by date\n",
    "    countrydf = df[(df['cases'] >= 1) & (df['geoId']==selectedcountry)].sort_values(by='dateRep')\n",
    "    # Extract the new cases in a variable, and make it an array for some calculations\n",
    "    confirmed = countrydf['cases']\n",
    "    confirmed_daily = confirmed.values\n",
    "    # Get the name and population of the selected country\n",
    "    population = df[df['geoId'] == selectedcountry]['popData2018'].values[-1]\n",
    "    country_name = df[df['geoId'] == selectedcountry]['countriesAndTerritories'].values[0]\n",
    "\n",
    "    # Do the calculations only if there are more than 10 confirmed cases for the selected country\n",
    "    if len(confirmed) > 10:\n",
    "        # Create the x values for the fit function: number of days since the first infection\n",
    "        # The y-values are the cumulative number of cases: confirmed.cumsum()\n",
    "        x = np.arange(0, len(confirmed))\n",
    "        # Set the initial parameters for the fit function\n",
    "        # a = current maximum value\n",
    "        # b = 1\n",
    "        # c = 0.1\n",
    "        # d = half the number of days with new infections for the selected country\n",
    "        p0 = [confirmed.values.sum(), 1, 0.1, len(confirmed_daily)//2]\n",
    "        try:\n",
    "            # actual fit to the logistic function\n",
    "            logistic_params, covariance = curve_fit(logistic_curve, x, confirmed.cumsum().values, p0=p0)\n",
    "            a, b, c, d = logistic_params\n",
    "        except Exception as e1:\n",
    "            print(e1)\n",
    "            return 0\n",
    "        \n",
    "        # Detect if the inflection point has been reached\n",
    "        if d > 0 and d < len(confirmed):\n",
    "            passed_inflection_point = True\n",
    "        else:\n",
    "            days_to_inflection = int(d)-len(confirmed)+1\n",
    "            plural = f\"{'s' if days_to_inflection > 1 else ''}\"\n",
    "            \n",
    "        # plot the actual cases reported in the database as blue dots\n",
    "        axs.plot(np.arange(0, len(confirmed)), confirmed.cumsum().values, \".\", markersize=8, label=\"Reported cases\")\n",
    "        \n",
    "        # Calculate how good is the fit\n",
    "        confirmed_pred = logistic_curve(np.arange(0, len(confirmed)), *logistic_params)\n",
    "        r2 = r2_score(confirmed.cumsum().values, confirmed_pred)\n",
    "        \n",
    "        # Plot R2 rendering LaTeX on the plot\n",
    "        axs.text(0.2, 0.3, f\"$R^2$={r2:.4f}\", transform=axs.transAxes)\n",
    "    \n",
    "        # calculate when the max number of cases increases so little new cases are not increasing\n",
    "        # this provides a slightly more accurate value than simply doubling the days of the inflection point\n",
    "        # uncomment the following lines if you want to see the difference\n",
    "        \"\"\"\n",
    "        days_pred = np.arange(len(confirmed)-(len(confirmed)%15), 360, 15)\n",
    "        ypred = logistic_curve(days_pred, *logistic_params)\n",
    "        \n",
    "        diff_ypred = [ypred[i + 1] - ypred[i] for i in range(len(ypred)-1)]\n",
    "        days_diff = days_pred[np.argmax(diff_ypred < np.max(diff_ypred)*0.000001)] - len(confirmed)\n",
    "        \n",
    "        x = np.arange(0, days_pred[np.argmax(diff_ypred < np.max(diff_ypred)*0.000001)])\n",
    "        y = logistic_curve(x, *logistic_params)\n",
    "        \"\"\"\n",
    "        # Calculate the whole curve using the double of days than the inflection point\n",
    "        # Comment the next 3 lines if you are testing the calculation above\n",
    "        x = np.arange(0, np.ceil(d*2))\n",
    "        y = logistic_curve(x, *logistic_params)\n",
    "        y_inflection_point = logistic_curve(int(d), *logistic_params)\n",
    "        days_diff = int(d) - len(confirmed)\n",
    "        days_to_asymptote = int(d*2) - len(confirmed)\n",
    "\n",
    "        # plot a vertical black dotted line indicating the end of the actual data\n",
    "        axs.vlines(len(confirmed_daily), 0, max(max(y), confirmed_daily.sum()), color='k', ls=':', label=\"Today\")#, transform=axs.transAxes)\n",
    "        \n",
    "        # generate the inflection point label\n",
    "        inflection_point_label = f\"Inflection point{' in ' if not passed_inflection_point else ' '}{abs(days_diff+1 )} days{' ago' if passed_inflection_point else ''}\"\n",
    "        # plot a vertical red dotted line indicating the location of the inflection point as a reference\n",
    "        axs.vlines(int(d), 0.0, max(max(y), confirmed_daily.sum()), color='r', ls=':', label=inflection_point_label)#, transform=axs.transAxes)\n",
    "        \n",
    "        # annotate the inflection point as a reference\n",
    "        axs.text(int(d)+1, y_inflection_point, f\"{int(d)} days\")\n",
    "        # plot the fitted curve in orange\n",
    "        axs.plot(x, y, color='#fc5e03', label=\"Fitted logistic function\")\n",
    "\n",
    "        # plot the predicted maximum number of cases and the number of days until then\n",
    "        text_x = len(confirmed)+2\n",
    "        text_y = 0.05*max(max(y), confirmed_daily.sum())\n",
    "        axs.text(text_x, text_y, f\"Day {len(confirmed)}\") \n",
    "        if confirmed.cumsum().values[-1] < y[-1]:\n",
    "            text_x = 0.7\n",
    "            text_y = 0.01\n",
    "            axs.text(text_x, text_y, f\"Cases in {abs(days_to_asymptote)} days from today: {int(y[-1]):,}\", transform=axs.transAxes)\n",
    "\n",
    "        axs.fill_between(x[len(confirmed):], confirmed.cumsum().values[-1], y[len(confirmed):],\n",
    "                         facecolor=\"none\", hatch=\"/\", edgecolor=f\"{'b' if passed_inflection_point else 'r'}\", linewidth=0.0,\n",
    "                         label=f\"Predicted increase\")\n",
    "\n",
    "    \n",
    "    axs.set_xlabel('Days since first infection')\n",
    "    axs.legend(loc='upper left')\n",
    "    axs.set_title('US COVID-19 cases')\n",
    "    \n",
    "    if save_figure:\n",
    "        filename = f\"{selectedcountry}_logistic_fit_{today.year}-{today.month:02d}-{today.day:02d}.png\"\n",
    "        destination_folder = os.path.expanduser(r\"~\\Documents\")\n",
    "        if not os.path.isdir(destination_folder):\n",
    "            try:\n",
    "                os.mkdir(destination_folder)\n",
    "            except Exception as e:\n",
    "                print(e)\n",
    "        plt.savefig(os.path.join(destination_folder, filename), dpi=300, bbox_inches='tight')\n",
    "        print(f\"file saved as: {os.path.join(destination_folder, filename)}\")\n"
   ]
  },
  {
   "cell_type": "code",
   "execution_count": null,
   "metadata": {},
   "outputs": [],
   "source": [
    "countries = df.loc[df[df['cases'] >= 1].index,['countriesAndTerritories', 'geoId', 'cases']].groupby(['countriesAndTerritories', 'geoId'], as_index=False)['cases'].sum().values\n",
    "\n",
    "countries = countries[countries[:,2].argsort()[::-1]]\n",
    "\n",
    "countries = [(f\"{a} ({c})\", b) for a, b, c in countries]\n",
    "\n",
    "%matplotlib inline\n",
    "style = {'description_width': 'initial'}\n",
    "output = widgets.interact(logarithmic_curve_fit,\n",
    "                          selectedcountry=widgets.Dropdown(options=countries,\n",
    "                                                           value=countries[0][1],\n",
    "                                                           description='Country (total):',\n",
    "                                                           style=style),\n",
    "                          save_figure=widgets.Checkbox(False, disabled=False))"
   ]
  },
  {
   "cell_type": "markdown",
   "metadata": {},
   "source": [
    "# Plot sample logistic function"
   ]
  },
  {
   "cell_type": "code",
   "execution_count": null,
   "metadata": {},
   "outputs": [],
   "source": [
    "a = 10\n",
    "b = 0\n",
    "c = 1\n",
    "d = 0\n",
    "x = np.arange(-10, 10, 0.1)\n",
    "y = logistic_curve(x, a, b, c, d)"
   ]
  },
  {
   "cell_type": "code",
   "execution_count": null,
   "metadata": {},
   "outputs": [],
   "source": [
    "fig = plt.figure(figsize=(15, 10))\n",
    "plt.plot(d, logistic_curve(d, a, b, c, d), 'or')\n",
    "plt.vlines(d, 0, 10, 'k', ':')\n",
    "plt.hlines(logistic_curve(d, a, b, c, d), x[0], x[-1], 'k', ':')\n",
    "# s = r\"$f(x) = \\frac{a}{1+e^(-c (x-d))}$\"\n",
    "# s = s+\"\\na=10, b=0, c=1, d=0\"\n",
    "# plt.text(-10, 8, s, fontdict=dict(fontsize='large'))\n",
    "plt.annotate('inflection point', xy=(d, logistic_curve(d, a, b, c, d)), xytext=(4, 6),\n",
    "             arrowprops=dict(arrowstyle='-|>',facecolor='black'))\n",
    "plt.plot(x, y)\n",
    "# plt.savefig(os.path.join(os.path.expanduser('~\\Documents'), 'sigmoid.png'), bbox_inches='tight', dpi=300)"
   ]
  },
  {
   "cell_type": "code",
   "execution_count": null,
   "metadata": {},
   "outputs": [],
   "source": []
  }
 ],
 "metadata": {
  "kernelspec": {
   "display_name": "Python 3",
   "language": "python",
   "name": "python3"
  },
  "language_info": {
   "codemirror_mode": {
    "name": "ipython",
    "version": 3
   },
   "file_extension": ".py",
   "mimetype": "text/x-python",
   "name": "python",
   "nbconvert_exporter": "python",
   "pygments_lexer": "ipython3",
   "version": "3.6.7"
  }
 },
 "nbformat": 4,
 "nbformat_minor": 2
}
