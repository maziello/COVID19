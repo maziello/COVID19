{
 "cells": [
  {
   "cell_type": "code",
   "execution_count": 1,
   "metadata": {},
   "outputs": [],
   "source": [
    "import pandas as pd\n",
    "import time\n",
    "import datetime\n",
    "import matplotlib.pyplot as plt\n",
    "import numpy as np\n",
    "from scipy.constants import golden\n",
    "from sklearn.linear_model import LinearRegression\n",
    "import ipywidgets as widgets\n",
    "import uuid\n",
    "import os\n",
    "from scipy.optimize import curve_fit\n",
    "from sklearn.metrics import r2_score"
   ]
  },
  {
   "cell_type": "code",
   "execution_count": 2,
   "metadata": {},
   "outputs": [
    {
     "name": "stdout",
     "output_type": "stream",
     "text": [
      "2020-04-01\n"
     ]
    }
   ],
   "source": [
    "today = datetime.datetime.today()\n",
    "print(f\"{today.year}-{today.month:02d}-{today.day:02d}\")"
   ]
  },
  {
   "cell_type": "code",
   "execution_count": 3,
   "metadata": {},
   "outputs": [
    {
     "name": "stdout",
     "output_type": "stream",
     "text": [
      "https://www.ecdc.europa.eu/sites/default/files/documents/COVID-19-geographic-disbtribution-worldwide-2020-04-1.xlsx\n"
     ]
    }
   ],
   "source": [
    "print(f\"https://www.ecdc.europa.eu/sites/default/files/documents/COVID-19-geographic-disbtribution-worldwide-{today.year}-{today.month:02d}-{today.day}.xlsx\")"
   ]
  },
  {
   "cell_type": "code",
   "execution_count": 4,
   "metadata": {},
   "outputs": [],
   "source": [
    "df = pd.read_excel(f\"https://www.ecdc.europa.eu/sites/default/files/documents/COVID-19-geographic-disbtribution-worldwide-{today.year}-{today.month:02d}-{today.day:02d}.xlsx\")"
   ]
  },
  {
   "cell_type": "code",
   "execution_count": 5,
   "metadata": {},
   "outputs": [
    {
     "data": {
      "text/html": [
       "<div>\n",
       "<style scoped>\n",
       "    .dataframe tbody tr th:only-of-type {\n",
       "        vertical-align: middle;\n",
       "    }\n",
       "\n",
       "    .dataframe tbody tr th {\n",
       "        vertical-align: top;\n",
       "    }\n",
       "\n",
       "    .dataframe thead th {\n",
       "        text-align: right;\n",
       "    }\n",
       "</style>\n",
       "<table border=\"1\" class=\"dataframe\">\n",
       "  <thead>\n",
       "    <tr style=\"text-align: right;\">\n",
       "      <th></th>\n",
       "      <th>dateRep</th>\n",
       "      <th>day</th>\n",
       "      <th>month</th>\n",
       "      <th>year</th>\n",
       "      <th>cases</th>\n",
       "      <th>deaths</th>\n",
       "      <th>countriesAndTerritories</th>\n",
       "      <th>geoId</th>\n",
       "      <th>countryterritoryCode</th>\n",
       "      <th>popData2018</th>\n",
       "    </tr>\n",
       "  </thead>\n",
       "  <tbody>\n",
       "    <tr>\n",
       "      <th>8101</th>\n",
       "      <td>2020-03-21</td>\n",
       "      <td>21</td>\n",
       "      <td>3</td>\n",
       "      <td>2020</td>\n",
       "      <td>1</td>\n",
       "      <td>0</td>\n",
       "      <td>Zimbabwe</td>\n",
       "      <td>ZW</td>\n",
       "      <td>ZWE</td>\n",
       "      <td>14439018.0</td>\n",
       "    </tr>\n",
       "    <tr>\n",
       "      <th>8100</th>\n",
       "      <td>2020-03-22</td>\n",
       "      <td>22</td>\n",
       "      <td>3</td>\n",
       "      <td>2020</td>\n",
       "      <td>1</td>\n",
       "      <td>0</td>\n",
       "      <td>Zimbabwe</td>\n",
       "      <td>ZW</td>\n",
       "      <td>ZWE</td>\n",
       "      <td>14439018.0</td>\n",
       "    </tr>\n",
       "    <tr>\n",
       "      <th>8099</th>\n",
       "      <td>2020-03-23</td>\n",
       "      <td>23</td>\n",
       "      <td>3</td>\n",
       "      <td>2020</td>\n",
       "      <td>0</td>\n",
       "      <td>0</td>\n",
       "      <td>Zimbabwe</td>\n",
       "      <td>ZW</td>\n",
       "      <td>ZWE</td>\n",
       "      <td>14439018.0</td>\n",
       "    </tr>\n",
       "    <tr>\n",
       "      <th>8098</th>\n",
       "      <td>2020-03-24</td>\n",
       "      <td>24</td>\n",
       "      <td>3</td>\n",
       "      <td>2020</td>\n",
       "      <td>0</td>\n",
       "      <td>1</td>\n",
       "      <td>Zimbabwe</td>\n",
       "      <td>ZW</td>\n",
       "      <td>ZWE</td>\n",
       "      <td>14439018.0</td>\n",
       "    </tr>\n",
       "    <tr>\n",
       "      <th>8097</th>\n",
       "      <td>2020-03-25</td>\n",
       "      <td>25</td>\n",
       "      <td>3</td>\n",
       "      <td>2020</td>\n",
       "      <td>0</td>\n",
       "      <td>0</td>\n",
       "      <td>Zimbabwe</td>\n",
       "      <td>ZW</td>\n",
       "      <td>ZWE</td>\n",
       "      <td>14439018.0</td>\n",
       "    </tr>\n",
       "  </tbody>\n",
       "</table>\n",
       "</div>"
      ],
      "text/plain": [
       "        dateRep  day  month  year  cases  deaths countriesAndTerritories  \\\n",
       "8101 2020-03-21   21      3  2020      1       0                Zimbabwe   \n",
       "8100 2020-03-22   22      3  2020      1       0                Zimbabwe   \n",
       "8099 2020-03-23   23      3  2020      0       0                Zimbabwe   \n",
       "8098 2020-03-24   24      3  2020      0       1                Zimbabwe   \n",
       "8097 2020-03-25   25      3  2020      0       0                Zimbabwe   \n",
       "\n",
       "     geoId countryterritoryCode  popData2018  \n",
       "8101    ZW                  ZWE   14439018.0  \n",
       "8100    ZW                  ZWE   14439018.0  \n",
       "8099    ZW                  ZWE   14439018.0  \n",
       "8098    ZW                  ZWE   14439018.0  \n",
       "8097    ZW                  ZWE   14439018.0  "
      ]
     },
     "execution_count": 5,
     "metadata": {},
     "output_type": "execute_result"
    }
   ],
   "source": [
    "df = df[::-1]\n",
    "df.head()"
   ]
  },
  {
   "cell_type": "code",
   "execution_count": 6,
   "metadata": {},
   "outputs": [
    {
     "data": {
      "text/plain": [
       "('dateRep', 'cases', 'geoId')"
      ]
     },
     "execution_count": 6,
     "metadata": {},
     "output_type": "execute_result"
    }
   ],
   "source": [
    "datecol = df.columns[0]\n",
    "cases = df.columns[4]\n",
    "country = df.columns[7]\n",
    "datecol, cases, country"
   ]
  },
  {
   "cell_type": "code",
   "execution_count": 7,
   "metadata": {},
   "outputs": [],
   "source": [
    "def logarithmic_curve(x, a, c, d):\n",
    "    return a / (1 + np.exp(-c * (x - d)))"
   ]
  },
  {
   "cell_type": "code",
   "execution_count": 8,
   "metadata": {},
   "outputs": [],
   "source": [
    "def exp_curve(x, a, b):\n",
    "    return a*np.exp(b*x)"
   ]
  },
  {
   "cell_type": "code",
   "execution_count": 14,
   "metadata": {},
   "outputs": [],
   "source": [
    "def covid_graphs(selectedcountry, threshold=10, image_width=5, save_figure=False):\n",
    "    nrows = 2\n",
    "    ncols = 2\n",
    "    fig, axs = plt.subplots(nrows=nrows, ncols=ncols, figsize=(image_width*ncols, image_width*nrows))\n",
    "    fig.tight_layout(pad=3.0)\n",
    "    confirmed = df[(df['cases'] >= 1) & (df[country]==selectedcountry)]['cases']\n",
    "    confirmed_daily = confirmed.values\n",
    "    confirmed_cumsum = confirmed.cumsum().values\n",
    "    if confirmed_daily.sum() < 10:\n",
    "        return 0\n",
    "    axs[0, 0].plot(np.arange(0, len(confirmed_daily)), confirmed_daily, color='#fc5e03', label='daily')\n",
    "    axs[0, 0].plot(np.arange(0, len(confirmed_cumsum)), confirmed_cumsum, color='b', label='cumulative')\n",
    "    axs[0, 0].plot(np.argmax(confirmed_daily), max(confirmed_daily), \".\",  markersize=8, color='r', label='Max cases in one day')\n",
    "    axs[0, 0].set_yscale('linear')\n",
    "    axs[0, 0].set_xlabel('Days since first infection')\n",
    "    axs[0, 0].text(0.65, 0.95, f\"Total cases: {confirmed_daily.sum()}\", transform=axs[0, 0].transAxes)\n",
    "    axs[0, 0].legend()\n",
    "    axs[0, 0].set_title('Infections')\n",
    "    \n",
    "    axs[0, 1].set_yscale('log')\n",
    "    axs[0, 1].plot(np.arange(0, len(confirmed_daily)), confirmed_daily, color='#fc5e03', label='daily')\n",
    "    axs[0, 1].plot(np.arange(0, len(confirmed_cumsum)), confirmed_cumsum, color='b', label='cumulative')\n",
    "    axs[0, 1].text(0.65, 0.95, f\"Total cases: {confirmed_daily.sum()}\", transform=axs[0, 1].transAxes)\n",
    "    axs[0, 1].plot(np.argmax(confirmed_daily), max(confirmed_daily), \".\",  markersize=8, color='r', label='Max cases in one day')\n",
    "    axs[0, 1].set_xlabel('Days since first infection')\n",
    "    axs[0, 1].legend()\n",
    "    axs[0, 1].set_title('Infections (logarithmic scale)')\n",
    "    \n",
    "    growth_rate = confirmed_daily/df[(df[country] == selectedcountry) & (df['cases'] >= 1)]['cases'].shift().values\n",
    "    growth_rate_indices = df[(df[country] == selectedcountry) & (df['cases'] >= 1)].index\n",
    "    growth_ratedf = df[(df[country] == selectedcountry) & (df['cases'] >= 1)]['cases']/df[(df[country] == selectedcountry) & (df['cases'] >= 1)]['cases'].shift()\n",
    "    rolling_mean = growth_ratedf.rolling(window=3).mean()\n",
    "    lr = LinearRegression()\n",
    "    days_gr = [(df.loc[idx, datecol] - df[(df[country] == selectedcountry) & (df['cases'] >= 1)]['dateRep'].min()).days for idx in df[(df[country] == selectedcountry) & (df['cases'] >= 1)].index]\n",
    "    days_gr = np.array(days_gr)\n",
    "    lr.fit(days_gr[1:].reshape(-1,1), growth_rate[1:].reshape(-1,1))\n",
    "\n",
    "    axs[1, 0].plot(np.arange(0, len(growth_rate_indices)), growth_rate, 'g', ls=':', linewidth=1.5, label='daily rate')\n",
    "    axs[1, 0].plot(np.arange(0, len(rolling_mean.values)), rolling_mean.values, '#fc5e03', linewidth=2, label='3-day average')\n",
    "    axs[1, 0].plot(np.arange(0, len(days_gr[1:])), lr.predict(days_gr[1:].reshape(-1,1)), label='trend')\n",
    "\n",
    "    axs[1, 0].set_xticks(np.arange(0, len(df[(df[country] == selectedcountry) & (df['cases'] >= 1)][cases]), 10))\n",
    "    axs[1, 0].set_xlabel('Days since first infection')\n",
    "    axs[1, 0].legend(loc='upper right')\n",
    "    axs[1, 0].set_title('Growth rate')\n",
    "\n",
    "    if len(confirmed_cumsum) > 10:\n",
    "        myfunction = logarithmic_curve\n",
    "        x = np.arange(0, len(confirmed_cumsum))\n",
    "        try:\n",
    "            logistic_params, covariance = curve_fit(myfunction, x, confirmed_cumsum)\n",
    "            a, c, d = logistic_params\n",
    "        except Exception as e:\n",
    "            pass\n",
    "\n",
    "        axs[1, 1].plot(np.arange(0, len(confirmed_cumsum)), confirmed_cumsum, \".\", markersize=8, label=\"Reported cases\")\n",
    "\n",
    "        if c < 0 or d < 0:\n",
    "            myfunction = exp_curve\n",
    "            logistic_params, covariance = curve_fit(myfunction, x, confirmed_cumsum)\n",
    "                    \n",
    "        confirmed_pred = myfunction(np.arange(0, len(confirmed_cumsum)), *logistic_params)\n",
    "        r2 = r2_score(confirmed_cumsum, confirmed_pred)\n",
    "        axs[1, 1].text(0.2, 0.3, f\"$R^2$={r2:.4f}\", transform=axs[1, 1].transAxes)\n",
    "        \n",
    "        if myfunction == logarithmic_curve:\n",
    "            confirmed_now = confirmed_cumsum[-1]\n",
    "            confirmed_then = confirmed_cumsum[-2]\n",
    "            days = 0\n",
    "            now = len(confirmed_cumsum)-1\n",
    "            while confirmed_now - confirmed_then > threshold:\n",
    "                days += 1\n",
    "                confirmed_then = confirmed_now\n",
    "                confirmed_now = logarithmic_curve(now + days, a, c, d)\n",
    "\n",
    "\n",
    "            x = np.arange(0, len(days_gr) + days)\n",
    "            y = myfunction(x, a, c, d)\n",
    "            axs[1, 1].plot([len(confirmed_daily), len(confirmed_daily)], [0, max(y)], color='k', ls=':')\n",
    "            axs[1, 1].plot(x, y, color='#fc5e03', label=\"Fitted logistic function\")\n",
    "            axs[1, 1].text(0.55, 0.1, f\"Total predicted cases: {int(confirmed_now)}\", transform=axs[1, 1].transAxes)\n",
    "            axs[1, 1].text(0.55, 0.05, f\"Remainig growth days: {days}\", transform=axs[1, 1].transAxes)\n",
    "            axs[1, 1].fill_between(x[-days:], confirmed_cumsum[-1], y[-days:],\n",
    "                                   facecolor=\"none\", hatch=\"/\", edgecolor=\"b\", linewidth=0.0,\n",
    "                                  label='Predicted increase')\n",
    "\n",
    "        elif myfunction == exp_curve:\n",
    "            x = np.arange(0, int(len(confirmed_cumsum)*1.5))\n",
    "            y = myfunction(x, *logistic_params)\n",
    "            axs[1, 1].plot(x, y, color='#fc5e03', label=\"Fitted exponential function\")\n",
    "    \n",
    "    axs[1, 1].set_xlabel('Days since first infection')\n",
    "    axs[1, 1].legend(loc='upper left')\n",
    "    axs[1, 1].set_title('Evolution (prediction)')\n",
    "\n",
    "    \n",
    "    country_name = df[df[country] == selectedcountry]['countriesAndTerritories'].values[0]\n",
    "    plt.suptitle(f\"COVID-19 evolution in {country_name}\", y=1.025, size=15)\n",
    "    \n",
    "    if save_figure:\n",
    "        filename = f\"{selectedcountry}_{today.year}-{today.month:02d}-{today.day:02d}_{uuid.uuid4().hex}.png\"\n",
    "        destination_folder = os.path.expanduser(r\"~\\Documents\\COVID-19\")\n",
    "        plt.savefig(os.path.join(destination_folder, filename),\n",
    "                    dpi=300, bbox_inches='tight')\n",
    "        print(f\"file saved as: {os.path.join(destination_folder, filename)}\")\n"
   ]
  },
  {
   "cell_type": "code",
   "execution_count": 15,
   "metadata": {},
   "outputs": [],
   "source": [
    "countries = list(zip(df['countriesAndTerritories'].unique()[::-1], df[country].unique()[::-1]))"
   ]
  },
  {
   "cell_type": "code",
   "execution_count": 16,
   "metadata": {
    "scrolled": false
   },
   "outputs": [
    {
     "data": {
      "application/vnd.jupyter.widget-view+json": {
       "model_id": "3ffe762f356a46cfbd669b5cdc34cd3c",
       "version_major": 2,
       "version_minor": 0
      },
      "text/plain": [
       "interactive(children=(Dropdown(description='Country:', index=174, options=(('Afghanistan', 'AF'), ('Albania', …"
      ]
     },
     "metadata": {},
     "output_type": "display_data"
    }
   ],
   "source": [
    "output = widgets.interact(covid_graphs,\n",
    "                 selectedcountry=widgets.Dropdown(options=countries,\n",
    "                                                  value='ES',\n",
    "                                                  description='Country:'),\n",
    "                 threshold=widgets.IntSlider(10, 5, 500, 5), \n",
    "                 image_width=widgets.IntSlider(6, 3, 10, 1),\n",
    "                 save_figure=widgets.Checkbox(False))"
   ]
  },
  {
   "cell_type": "code",
   "execution_count": null,
   "metadata": {},
   "outputs": [],
   "source": []
  }
 ],
 "metadata": {
  "kernelspec": {
   "display_name": "Python 3",
   "language": "python",
   "name": "python3"
  },
  "language_info": {
   "codemirror_mode": {
    "name": "ipython",
    "version": 3
   },
   "file_extension": ".py",
   "mimetype": "text/x-python",
   "name": "python",
   "nbconvert_exporter": "python",
   "pygments_lexer": "ipython3",
   "version": "3.6.7"
  }
 },
 "nbformat": 4,
 "nbformat_minor": 2
}
